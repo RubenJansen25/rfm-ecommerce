{
 "cells": [
  {
   "cell_type": "markdown",
   "metadata": {},
   "source": [
    "# 1. Imports"
   ]
  },
  {
   "cell_type": "code",
   "execution_count": null,
   "metadata": {},
   "outputs": [],
   "source": [
    "import numpy as np\n",
    "import pandas as pd \n",
    "import plotly.express as px\n",
    "import datetime as dt\n",
    "import plotly.graph_objects as go\n",
    "import re\n",
    "\n",
    "# Plotly settings\n",
    "import plotly.io as pio\n",
    "pio.renderers.default='notebook'"
   ]
  },
  {
   "cell_type": "markdown",
   "metadata": {},
   "source": [
    "# 2. Load data"
   ]
  },
  {
   "cell_type": "code",
   "execution_count": null,
   "metadata": {},
   "outputs": [],
   "source": [
    "df = pd.read_csv(\"../data/processed/online_retail_II_2009.csv\")"
   ]
  },
  {
   "cell_type": "code",
   "execution_count": null,
   "metadata": {},
   "outputs": [],
   "source": [
    "display(df.head(3))\n",
    "display(df.info())"
   ]
  },
  {
   "cell_type": "markdown",
   "metadata": {},
   "source": [
    "# 3. Clean data"
   ]
  },
  {
   "cell_type": "code",
   "execution_count": null,
   "metadata": {},
   "outputs": [],
   "source": [
    "# Print amount of missing values\n",
    "print(df.isnull().sum().sort_values(ascending = False))"
   ]
  },
  {
   "cell_type": "code",
   "execution_count": null,
   "metadata": {},
   "outputs": [],
   "source": [
    "# Remove missing values\n",
    "df.dropna(inplace=True)"
   ]
  },
  {
   "cell_type": "code",
   "execution_count": null,
   "metadata": {},
   "outputs": [],
   "source": [
    "# Summary statistics\n",
    "df.describe([0.01, 0.05, 0.10, 0.20, 0.90, 0.95, 0.99]).T"
   ]
  },
  {
   "cell_type": "markdown",
   "metadata": {},
   "source": [
    "Negative values are refunds, refunded invoices contain C in the invoice ID."
   ]
  },
  {
   "cell_type": "code",
   "execution_count": null,
   "metadata": {},
   "outputs": [],
   "source": [
    "# Remove negative values for invoices\n",
    "df = df[~df[\"Invoice\"].str.contains(\"C\", na = False)]\n",
    "\n",
    "df.describe([0.01, 0.05, 0.10, 0.20, 0.90, 0.95, 0.99]).T"
   ]
  },
  {
   "cell_type": "code",
   "execution_count": null,
   "metadata": {},
   "outputs": [],
   "source": [
    "# Remove where price is 0\n",
    "df = df[df[\"Price\"] > 0]"
   ]
  },
  {
   "cell_type": "code",
   "execution_count": null,
   "metadata": {},
   "outputs": [],
   "source": [
    "# Change country EIRE to Ireland\n",
    "df.loc[df[\"Country\"] == \"EIRE\", \"Country\"] = \"Ireland\""
   ]
  },
  {
   "cell_type": "code",
   "execution_count": null,
   "metadata": {},
   "outputs": [],
   "source": [
    "# Convert InvoiceDate to datetime\n",
    "df.loc[:, 'InvoiceDate'] = pd.to_datetime(df['InvoiceDate'])"
   ]
  },
  {
   "cell_type": "code",
   "execution_count": null,
   "metadata": {},
   "outputs": [],
   "source": [
    "# Calculate revenue 2 decimal places\n",
    "df.loc[:, 'Revenue'] = df['Quantity'] * df['Price']\n",
    "df.loc[:, 'Revenue'] = df['Revenue'].round(2)"
   ]
  },
  {
   "cell_type": "markdown",
   "metadata": {},
   "source": [
    "# "
   ]
  },
  {
   "cell_type": "markdown",
   "metadata": {},
   "source": [
    "# 4. EDA"
   ]
  },
  {
   "cell_type": "markdown",
   "metadata": {},
   "source": [
    "### 4.1 Distribution of Quantity & Price"
   ]
  },
  {
   "cell_type": "code",
   "execution_count": null,
   "metadata": {},
   "outputs": [],
   "source": [
    "# Boxplot\n",
    "fig = go.Figure()\n",
    "\n",
    "# Add box traces for Quantity and Price\n",
    "for col in ['Quantity', 'Price']:\n",
    "    fig.add_trace(go.Box(\n",
    "        x=df[col],\n",
    "        name=col,\n",
    "        orientation='h'\n",
    "    ))\n",
    "\n",
    "# Update layout\n",
    "fig.update_layout(\n",
    "    width=1000,\n",
    "    title='Boxplot of Quantity and Price',\n",
    "    xaxis_title='Value (log scale)',\n",
    "    xaxis_type='log'\n",
    ")\n",
    "\n",
    "fig.show()"
   ]
  },
  {
   "cell_type": "markdown",
   "metadata": {},
   "source": [
    "### 4.2 Top-N analysis "
   ]
  },
  {
   "cell_type": "code",
   "execution_count": null,
   "metadata": {},
   "outputs": [],
   "source": [
    "# Barchart\n",
    "country_counts = df['Country'].value_counts().head(3)\n",
    "fig = go.Figure(data=[\n",
    "    go.Bar(\n",
    "        x=country_counts.index,\n",
    "        y=country_counts.values\n",
    "    )\n",
    "])\n",
    "\n",
    "# Update layout\n",
    "fig.update_layout(\n",
    "    width=500,\n",
    "    title='Top 3 Countries by Number of Transactions',\n",
    "    xaxis_title='Country',\n",
    "    yaxis_title='Count'\n",
    ")\n",
    "\n",
    "fig.show()"
   ]
  },
  {
   "cell_type": "code",
   "execution_count": null,
   "metadata": {},
   "outputs": [],
   "source": [
    "# Barchart top-selling products\n",
    "# Get top 3 products and their counts\n",
    "product_counts = df['StockCode'].value_counts().head(3)\n",
    "\n",
    "# Get descriptions for top products\n",
    "top_products = pd.DataFrame({\n",
    "    'StockCode': product_counts.index,\n",
    "    'Count': product_counts.values\n",
    "})\n",
    "top_products = top_products.merge(df[['StockCode', 'Description']].drop_duplicates(), on='StockCode')\n",
    "\n",
    "fig = go.Figure(data=[\n",
    "    go.Bar(\n",
    "        x=top_products['StockCode'],\n",
    "        y=top_products['Count'],\n",
    "        hovertext=top_products['Description'],\n",
    "        hoverinfo='text+y'\n",
    "    )\n",
    "])\n",
    "\n",
    "# Update layout\n",
    "fig.update_layout(\n",
    "    width=500,\n",
    "    title='Top 3 Products by Number of Transactions<br><sup>Hover over bars to see product descriptions</sup>',\n",
    "    xaxis_title='Stock Code',\n",
    "    yaxis_title='Count'\n",
    ")\n",
    "\n",
    "fig.show()"
   ]
  },
  {
   "cell_type": "markdown",
   "metadata": {},
   "source": [
    "# 5. Customer Segmentation - RFM analysis"
   ]
  },
  {
   "cell_type": "code",
   "execution_count": null,
   "metadata": {},
   "outputs": [],
   "source": [
    "# Create snapshot date (most recent transaction date + 1 day)\n",
    "snapshot_date = df['InvoiceDate'].max() + pd.DateOffset(days=1)"
   ]
  },
  {
   "cell_type": "code",
   "execution_count": null,
   "metadata": {},
   "outputs": [],
   "source": [
    "# Aggregate data by Customer ID\n",
    "rfm = df.groupby('Customer ID').agg({\n",
    "    'InvoiceDate': lambda x: (snapshot_date - x.max()).days,  # Recency\n",
    "    'Invoice': 'nunique',                                      # Frequency\n",
    "    'Revenue': 'sum'                                           # Monetary\n",
    "}).reset_index()\n",
    "\n",
    "rfm.columns = ['CustomerID', 'Recency', 'Frequency', 'Monetary']"
   ]
  },
  {
   "cell_type": "code",
   "execution_count": null,
   "metadata": {},
   "outputs": [],
   "source": [
    "# Assign quartile-based scores (1-4)\n",
    "rfm['RecencyScore'] = pd.qcut(rfm['Recency'], q=5, labels=[5, 4 , 3, 2, 1])\n",
    "rfm['FrequencyScore'] = pd.qcut(rfm['Frequency'].rank(method=\"first\"), q=5, labels=[1,2,3,4,5])\n",
    "rfm['MonetaryScore'] = pd.qcut(rfm['Monetary'], q=5, labels=[1, 2, 3, 4, 5])\n",
    "\n",
    "# Combine scores\n",
    "rfm['RFM_Score'] = (\n",
    "    rfm['RecencyScore'].astype(str) + \n",
    "    rfm['FrequencyScore'].astype(str) + \n",
    "    rfm['MonetaryScore'].astype(str)\n",
    ")\n",
    "\n",
    "rfm.head(3)"
   ]
  },
  {
   "cell_type": "code",
   "execution_count": null,
   "metadata": {},
   "outputs": [],
   "source": [
    "seg_map = {\n",
    "    r'[1-2][1-2]': 'Hibernating',\n",
    "    r'[1-2][3-4]': 'At Risk', \n",
    "    r'[1-2]5': \"Can't Lose\",\n",
    "    r'3[1-2]': 'About to Sleep',\n",
    "    r'33': 'Need Attention',\n",
    "    r'[3-4][4-5]': 'Loyal Customers',\n",
    "    r'41': 'Promising',\n",
    "    r'51': 'New Customers',\n",
    "    r'[4-5][2-3]': 'Potential Loyalists',\n",
    "    r'5[4-5]': 'Champions'\n",
    "}"
   ]
  },
  {
   "cell_type": "code",
   "execution_count": null,
   "metadata": {},
   "outputs": [],
   "source": [
    "# First ensure RFM scores are strings\n",
    "rfm['RFM_Score'] = rfm['RFM_Score'].astype(str)\n",
    "\n",
    "# Extract first two digits for segmentation (Recency + Frequency)\n",
    "rfm['RF_Frequency_Recency'] = rfm['RFM_Score'].str[:2]\n",
    "\n",
    "# Create function to map segments using regex\n",
    "def assign_segment(rf_code):\n",
    "    for pattern, segment in seg_map.items():\n",
    "        if re.match(pattern, rf_code):\n",
    "            return segment\n",
    "    return 'Other'  # Fallback category\n",
    "\n",
    "# Apply segmentation\n",
    "rfm['Segment'] = rfm['RF_Frequency_Recency'].apply(assign_segment)\n",
    "\n",
    "# Sort segments by business priority\n",
    "segment_order = [\n",
    "    'Champions', 'Loyal Customers', 'Potential Loyalists',\n",
    "    'New Customers', 'Promising', 'Need Attention',\n",
    "    'About to Sleep', 'At Risk', \"Can't Loose\", \n",
    "    'Hibernating'\n",
    "]\n"
   ]
  },
  {
   "cell_type": "code",
   "execution_count": null,
   "metadata": {},
   "outputs": [],
   "source": [
    "# Visualization 1: Interactive Treemap\n",
    "fig = px.treemap(rfm.groupby('Segment', observed=False).size().reset_index(name='Count'),\n",
    "                 path=['Segment'], values='Count',\n",
    "                 title='Customer Segmentation Distribution | RFM Analysis',\n",
    "                 width=800,\n",
    "                 height=800)\n",
    "fig.update_traces(textinfo=\"label+value+percent parent\")\n",
    "fig.show()"
   ]
  },
  {
   "cell_type": "code",
   "execution_count": null,
   "metadata": {},
   "outputs": [],
   "source": [
    "# Get high-value customers needing attention\n",
    "high_value_risk = rfm[\n",
    "    (rfm['Segment'].isin(['Need Attention', 'At Risk'])) & \n",
    "    (rfm['Monetary'] > rfm['Monetary'].quantile(0.75))\n",
    "]\n",
    "\n",
    "print(f\"High-value customers needing attention: {len(high_value_risk)}\")\n",
    "print(high_value_risk[['CustomerID', 'Recency', 'Frequency', 'Monetary', 'Segment']].head())"
   ]
  },
  {
   "cell_type": "code",
   "execution_count": null,
   "metadata": {},
   "outputs": [],
   "source": [
    "rfmStats = rfm[[\"Segment\",\"Recency\",\"Frequency\", \"Monetary\"]].groupby(\"Segment\").agg([\"mean\",\"median\",\"count\", \"std\"])\n",
    "rfmStats.columns = rfmStats.columns.map('_'.join).str.strip('|')\n",
    "rfmStats"
   ]
  }
 ],
 "metadata": {
  "kernelspec": {
   "display_name": ".venv",
   "language": "python",
   "name": "python3"
  },
  "language_info": {
   "codemirror_mode": {
    "name": "ipython",
    "version": 3
   },
   "file_extension": ".py",
   "mimetype": "text/x-python",
   "name": "python",
   "nbconvert_exporter": "python",
   "pygments_lexer": "ipython3",
   "version": "3.10.14"
  }
 },
 "nbformat": 4,
 "nbformat_minor": 2
}
